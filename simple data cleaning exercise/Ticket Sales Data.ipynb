{
 "cells": [
  {
   "cell_type": "markdown",
   "metadata": {},
   "source": [
    "__Hone your skills by importing and cleaning some wonderfully messy online ticket sales data.__\n",
    "\n",
    "This file referes to the file sales.csv in the data folder, it is a sample datafile. As the source is unkown some features cannot be explained. "
   ]
  },
  {
   "cell_type": "markdown",
   "metadata": {},
   "source": [
    "# Importing the libraries"
   ]
  },
  {
   "cell_type": "code",
   "execution_count": 42,
   "metadata": {
    "ExecuteTime": {
     "end_time": "2019-05-30T20:46:52.955242Z",
     "start_time": "2019-05-30T20:46:52.896242Z"
    }
   },
   "outputs": [],
   "source": [
    "\n",
    "import warnings\n",
    "warnings.filterwarnings(\"ignore\")\n",
    "import numpy as np\n",
    "import pandas as pd\n",
    "#pd.describe_option('display')\n",
    "pd.set_option('display.max_columns', None)  # or 1000\n",
    "#pd.set_option('display.max_rows', None)  # or 1000\n",
    "#pd.set_option('display.max_colwidth', -1)  # or 199\n",
    "from datetime import datetime\n",
    "import os\n"
   ]
  },
  {
   "cell_type": "markdown",
   "metadata": {},
   "source": [
    "# Importing the dataset"
   ]
  },
  {
   "cell_type": "code",
   "execution_count": 2,
   "metadata": {
    "ExecuteTime": {
     "end_time": "2019-05-30T19:10:09.792684Z",
     "start_time": "2019-05-30T19:10:09.749687Z"
    }
   },
   "outputs": [],
   "source": [
    "path = 'data'\n",
    "files = os.listdir(path)\n",
    "file_sale = 'sales.csv'\n"
   ]
  },
  {
   "cell_type": "markdown",
   "metadata": {},
   "source": [
    "if you go the direct way with pandas  \n",
    "df = pd.read_csv('sales.csv')  \n",
    "it will show you the following error:  \n",
    "UnicodeDecodeError: 'utf-8' codec can't decode byte 0xf8 in position 22: invalid start byte  \n",
    "\n",
    "this might happen due to several reasons, one if them is a different file encoding, there is no easy way to find the true encoding of a file, anyhow you don't need to know it\n",
    "  \n",
    "just read the file with the csv reader from the library csv and rewrite this file in the wished encoding here : 'utf-8'"
   ]
  },
  {
   "cell_type": "code",
   "execution_count": 47,
   "metadata": {
    "ExecuteTime": {
     "end_time": "2019-05-30T13:36:06.326275Z",
     "start_time": "2019-05-30T13:36:04.870291Z"
    }
   },
   "outputs": [],
   "source": [
    "import csv\n",
    "\n",
    "with open('sales.csv', newline='') as f:\n",
    "    with open('sales_utf.csv', 'w', encoding=\"utf-8\") as csvfile:\n",
    "        writer = csv.writer(csvfile)\n",
    "        reader = csv.reader(f)\n",
    "        for row in reader:\n",
    "            # print(row) was used for verification\n",
    "            writer.writerow(row)\n",
    "csvfile.close()   # to be verified, does this work properly?        "
   ]
  },
  {
   "cell_type": "code",
   "execution_count": 8,
   "metadata": {
    "ExecuteTime": {
     "end_time": "2019-05-30T19:46:29.651750Z",
     "start_time": "2019-05-30T19:46:29.118763Z"
    }
   },
   "outputs": [],
   "source": [
    "dataset = pd.read_csv('sales_utf.csv')\n",
    "#dataset.to_excel('sales_utf.xlsx')     # as this is a small dataaaset, it's always fine to keep an eye on with excel"
   ]
  },
  {
   "cell_type": "markdown",
   "metadata": {},
   "source": [
    "*in order to inspect this file properly you have to set the right pandas options with*  \n",
    "  \n",
    "pd.set_option('display.max_columns', None)  # or 1000  \n",
    "*optional*  \n",
    "pd.set_option('display.max_rows', None)  # or 1000  \n",
    "pd.set_option('display.max_colwidth', -1)  # or 199  "
   ]
  },
  {
   "cell_type": "code",
   "execution_count": 60,
   "metadata": {
    "ExecuteTime": {
     "end_time": "2019-05-30T13:52:14.207500Z",
     "start_time": "2019-05-30T13:52:13.918499Z"
    }
   },
   "outputs": [
    {
     "data": {
      "text/html": [
       "<div>\n",
       "<style scoped>\n",
       "    .dataframe tbody tr th:only-of-type {\n",
       "        vertical-align: middle;\n",
       "    }\n",
       "\n",
       "    .dataframe tbody tr th {\n",
       "        vertical-align: top;\n",
       "    }\n",
       "\n",
       "    .dataframe thead th {\n",
       "        text-align: right;\n",
       "    }\n",
       "</style>\n",
       "<table border=\"1\" class=\"dataframe\">\n",
       "  <thead>\n",
       "    <tr style=\"text-align: right;\">\n",
       "      <th></th>\n",
       "      <th>Unnamed: 0</th>\n",
       "      <th>event_id</th>\n",
       "      <th>primary_act_id</th>\n",
       "      <th>secondary_act_id</th>\n",
       "      <th>purch_party_lkup_id</th>\n",
       "      <th>event_name</th>\n",
       "      <th>primary_act_name</th>\n",
       "      <th>secondary_act_name</th>\n",
       "      <th>major_cat_name</th>\n",
       "      <th>minor_cat_name</th>\n",
       "      <th>la_event_type_cat</th>\n",
       "      <th>event_disp_name</th>\n",
       "      <th>ticket_text</th>\n",
       "      <th>tickets_purchased_qty</th>\n",
       "      <th>trans_face_val_amt</th>\n",
       "      <th>delivery_type_cd</th>\n",
       "      <th>event_date_time</th>\n",
       "      <th>event_dt</th>\n",
       "      <th>presale_dt</th>\n",
       "      <th>onsale_dt</th>\n",
       "      <th>sales_ord_create_dttm</th>\n",
       "      <th>sales_ord_tran_dt</th>\n",
       "      <th>print_dt</th>\n",
       "      <th>timezn_nm</th>\n",
       "      <th>venue_city</th>\n",
       "      <th>venue_state</th>\n",
       "      <th>venue_postal_cd_sgmt_1</th>\n",
       "      <th>sales_platform_cd</th>\n",
       "      <th>print_flg</th>\n",
       "      <th>la_valid_tkt_event_flg</th>\n",
       "      <th>fin_mkt_nm</th>\n",
       "      <th>web_session_cookie_val</th>\n",
       "      <th>gndr_cd</th>\n",
       "      <th>age_yr</th>\n",
       "      <th>income_amt</th>\n",
       "      <th>edu_val</th>\n",
       "      <th>edu_1st_indv_val</th>\n",
       "      <th>edu_2nd_indv_val</th>\n",
       "      <th>adults_in_hh_num</th>\n",
       "      <th>married_ind</th>\n",
       "      <th>child_present_ind</th>\n",
       "      <th>home_owner_ind</th>\n",
       "      <th>occpn_val</th>\n",
       "      <th>occpn_1st_val</th>\n",
       "      <th>occpn_2nd_val</th>\n",
       "      <th>dist_to_ven</th>\n",
       "    </tr>\n",
       "  </thead>\n",
       "  <tbody>\n",
       "    <tr>\n",
       "      <th>0</th>\n",
       "      <td>1</td>\n",
       "      <td>abcaf1adb99a935fc661</td>\n",
       "      <td>43f0436b905bfa7c2eec</td>\n",
       "      <td>b85143bf51323b72e53c</td>\n",
       "      <td>7dfa56dd7d5956b17587</td>\n",
       "      <td>Xfinity Center Mansfield Premier Parking: Flor...</td>\n",
       "      <td>XFINITY Center Mansfield Premier Parking</td>\n",
       "      <td>NaN</td>\n",
       "      <td>MISC</td>\n",
       "      <td>PARKING</td>\n",
       "      <td>PARKING</td>\n",
       "      <td>Xfinity Center Mansfield Premier Parking: Flor...</td>\n",
       "      <td>THIS TICKET IS VALID        FOR PARKING ONL...</td>\n",
       "      <td>1</td>\n",
       "      <td>45.0</td>\n",
       "      <td>eTicket</td>\n",
       "      <td>2015-09-12 23:30:00</td>\n",
       "      <td>2015-09-12</td>\n",
       "      <td>NaN</td>\n",
       "      <td>2015-05-15</td>\n",
       "      <td>2015-09-11 18:17:45</td>\n",
       "      <td>2015-09-11</td>\n",
       "      <td>2015-09-12</td>\n",
       "      <td>EST</td>\n",
       "      <td>MANSFIELD</td>\n",
       "      <td>MASSACHUSETTS</td>\n",
       "      <td>02048</td>\n",
       "      <td>www.concerts.livenation.com</td>\n",
       "      <td>T</td>\n",
       "      <td>N</td>\n",
       "      <td>Boston</td>\n",
       "      <td>7dfa56dd7d5956b17587</td>\n",
       "      <td>NaN</td>\n",
       "      <td>NaN</td>\n",
       "      <td>NaN</td>\n",
       "      <td>NaN</td>\n",
       "      <td>NaN</td>\n",
       "      <td>NaN</td>\n",
       "      <td>NaN</td>\n",
       "      <td>NaN</td>\n",
       "      <td>NaN</td>\n",
       "      <td>NaN</td>\n",
       "      <td>NaN</td>\n",
       "      <td>NaN</td>\n",
       "      <td>NaN</td>\n",
       "      <td>NaN</td>\n",
       "    </tr>\n",
       "  </tbody>\n",
       "</table>\n",
       "</div>"
      ],
      "text/plain": [
       "   Unnamed: 0              event_id        primary_act_id  \\\n",
       "0           1  abcaf1adb99a935fc661  43f0436b905bfa7c2eec   \n",
       "\n",
       "       secondary_act_id   purch_party_lkup_id  \\\n",
       "0  b85143bf51323b72e53c  7dfa56dd7d5956b17587   \n",
       "\n",
       "                                          event_name  \\\n",
       "0  Xfinity Center Mansfield Premier Parking: Flor...   \n",
       "\n",
       "                           primary_act_name secondary_act_name major_cat_name  \\\n",
       "0  XFINITY Center Mansfield Premier Parking                NaN           MISC   \n",
       "\n",
       "  minor_cat_name la_event_type_cat  \\\n",
       "0        PARKING           PARKING   \n",
       "\n",
       "                                     event_disp_name  \\\n",
       "0  Xfinity Center Mansfield Premier Parking: Flor...   \n",
       "\n",
       "                                         ticket_text  tickets_purchased_qty  \\\n",
       "0     THIS TICKET IS VALID        FOR PARKING ONL...                      1   \n",
       "\n",
       "   trans_face_val_amt delivery_type_cd      event_date_time    event_dt  \\\n",
       "0                45.0          eTicket  2015-09-12 23:30:00  2015-09-12   \n",
       "\n",
       "  presale_dt   onsale_dt sales_ord_create_dttm sales_ord_tran_dt    print_dt  \\\n",
       "0        NaN  2015-05-15   2015-09-11 18:17:45        2015-09-11  2015-09-12   \n",
       "\n",
       "  timezn_nm venue_city    venue_state venue_postal_cd_sgmt_1  \\\n",
       "0       EST  MANSFIELD  MASSACHUSETTS                  02048   \n",
       "\n",
       "             sales_platform_cd print_flg la_valid_tkt_event_flg fin_mkt_nm  \\\n",
       "0  www.concerts.livenation.com        T                      N      Boston   \n",
       "\n",
       "  web_session_cookie_val gndr_cd  age_yr  income_amt edu_val edu_1st_indv_val  \\\n",
       "0   7dfa56dd7d5956b17587     NaN     NaN         NaN     NaN              NaN   \n",
       "\n",
       "  edu_2nd_indv_val  adults_in_hh_num  married_ind  child_present_ind  \\\n",
       "0              NaN               NaN          NaN                NaN   \n",
       "\n",
       "   home_owner_ind occpn_val occpn_1st_val occpn_2nd_val  dist_to_ven  \n",
       "0             NaN       NaN           NaN           NaN          NaN  "
      ]
     },
     "execution_count": 60,
     "metadata": {},
     "output_type": "execute_result"
    }
   ],
   "source": [
    "dataset.head(1)"
   ]
  },
  {
   "cell_type": "markdown",
   "metadata": {
    "ExecuteTime": {
     "end_time": "2019-05-30T13:45:09.520725Z",
     "start_time": "2019-05-30T13:45:09.388731Z"
    }
   },
   "source": [
    "seems that the rewriting worked properly, but as this is a very messy dataset a lot of work is to be done  \n",
    "  \n",
    "a first inspection with excel shows that some mistakes caused by but formating of original csv file are corected too\n"
   ]
  },
  {
   "cell_type": "markdown",
   "metadata": {},
   "source": [
    "# Data Cleaning"
   ]
  },
  {
   "cell_type": "markdown",
   "metadata": {},
   "source": [
    "To clean a data set without any option why you do it is just a waste of time. The target here is easy, this dataset should me prepared for data cleaning.  \n",
    "  \n",
    "So at first keep an eye on information which is not needed, this step saves some time. Just be careful at this point, it should be obvisious that the data isn't needed. Else you just open a door for bias or worse you may destroy any prediction."
   ]
  },
  {
   "cell_type": "markdown",
   "metadata": {},
   "source": [
    "## is there unnessecary information in the data features? Remove redudant information."
   ]
  },
  {
   "cell_type": "code",
   "execution_count": 5,
   "metadata": {
    "ExecuteTime": {
     "end_time": "2019-05-30T19:20:35.928691Z",
     "start_time": "2019-05-30T19:20:35.540700Z"
    }
   },
   "outputs": [
    {
     "data": {
      "text/html": [
       "<div>\n",
       "<style scoped>\n",
       "    .dataframe tbody tr th:only-of-type {\n",
       "        vertical-align: middle;\n",
       "    }\n",
       "\n",
       "    .dataframe tbody tr th {\n",
       "        vertical-align: top;\n",
       "    }\n",
       "\n",
       "    .dataframe thead th {\n",
       "        text-align: right;\n",
       "    }\n",
       "</style>\n",
       "<table border=\"1\" class=\"dataframe\">\n",
       "  <thead>\n",
       "    <tr style=\"text-align: right;\">\n",
       "      <th></th>\n",
       "      <th>Unnamed: 0</th>\n",
       "      <th>event_id</th>\n",
       "      <th>primary_act_id</th>\n",
       "      <th>secondary_act_id</th>\n",
       "      <th>purch_party_lkup_id</th>\n",
       "      <th>event_name</th>\n",
       "      <th>primary_act_name</th>\n",
       "      <th>secondary_act_name</th>\n",
       "      <th>major_cat_name</th>\n",
       "      <th>minor_cat_name</th>\n",
       "      <th>la_event_type_cat</th>\n",
       "      <th>event_disp_name</th>\n",
       "      <th>ticket_text</th>\n",
       "      <th>tickets_purchased_qty</th>\n",
       "      <th>trans_face_val_amt</th>\n",
       "      <th>delivery_type_cd</th>\n",
       "      <th>event_date_time</th>\n",
       "      <th>event_dt</th>\n",
       "      <th>presale_dt</th>\n",
       "      <th>onsale_dt</th>\n",
       "      <th>sales_ord_create_dttm</th>\n",
       "      <th>sales_ord_tran_dt</th>\n",
       "      <th>print_dt</th>\n",
       "      <th>timezn_nm</th>\n",
       "      <th>venue_city</th>\n",
       "      <th>venue_state</th>\n",
       "      <th>venue_postal_cd_sgmt_1</th>\n",
       "      <th>sales_platform_cd</th>\n",
       "      <th>print_flg</th>\n",
       "      <th>la_valid_tkt_event_flg</th>\n",
       "      <th>fin_mkt_nm</th>\n",
       "      <th>web_session_cookie_val</th>\n",
       "      <th>gndr_cd</th>\n",
       "      <th>age_yr</th>\n",
       "      <th>income_amt</th>\n",
       "      <th>edu_val</th>\n",
       "      <th>edu_1st_indv_val</th>\n",
       "      <th>edu_2nd_indv_val</th>\n",
       "      <th>adults_in_hh_num</th>\n",
       "      <th>married_ind</th>\n",
       "      <th>child_present_ind</th>\n",
       "      <th>home_owner_ind</th>\n",
       "      <th>occpn_val</th>\n",
       "      <th>occpn_1st_val</th>\n",
       "      <th>occpn_2nd_val</th>\n",
       "      <th>dist_to_ven</th>\n",
       "    </tr>\n",
       "  </thead>\n",
       "  <tbody>\n",
       "    <tr>\n",
       "      <th>0</th>\n",
       "      <td>1</td>\n",
       "      <td>abcaf1adb99a935fc661</td>\n",
       "      <td>43f0436b905bfa7c2eec</td>\n",
       "      <td>b85143bf51323b72e53c</td>\n",
       "      <td>7dfa56dd7d5956b17587</td>\n",
       "      <td>Xfinity Center Mansfield Premier Parking: Flor...</td>\n",
       "      <td>XFINITY Center Mansfield Premier Parking</td>\n",
       "      <td>NaN</td>\n",
       "      <td>MISC</td>\n",
       "      <td>PARKING</td>\n",
       "      <td>PARKING</td>\n",
       "      <td>Xfinity Center Mansfield Premier Parking: Flor...</td>\n",
       "      <td>THIS TICKET IS VALID        FOR PARKING ONL...</td>\n",
       "      <td>1</td>\n",
       "      <td>45.0</td>\n",
       "      <td>eTicket</td>\n",
       "      <td>2015-09-12 23:30:00</td>\n",
       "      <td>2015-09-12</td>\n",
       "      <td>NaN</td>\n",
       "      <td>2015-05-15</td>\n",
       "      <td>2015-09-11 18:17:45</td>\n",
       "      <td>2015-09-11</td>\n",
       "      <td>2015-09-12</td>\n",
       "      <td>EST</td>\n",
       "      <td>MANSFIELD</td>\n",
       "      <td>MASSACHUSETTS</td>\n",
       "      <td>02048</td>\n",
       "      <td>www.concerts.livenation.com</td>\n",
       "      <td>T</td>\n",
       "      <td>N</td>\n",
       "      <td>Boston</td>\n",
       "      <td>7dfa56dd7d5956b17587</td>\n",
       "      <td>NaN</td>\n",
       "      <td>NaN</td>\n",
       "      <td>NaN</td>\n",
       "      <td>NaN</td>\n",
       "      <td>NaN</td>\n",
       "      <td>NaN</td>\n",
       "      <td>NaN</td>\n",
       "      <td>NaN</td>\n",
       "      <td>NaN</td>\n",
       "      <td>NaN</td>\n",
       "      <td>NaN</td>\n",
       "      <td>NaN</td>\n",
       "      <td>NaN</td>\n",
       "      <td>NaN</td>\n",
       "    </tr>\n",
       "  </tbody>\n",
       "</table>\n",
       "</div>"
      ],
      "text/plain": [
       "   Unnamed: 0              event_id        primary_act_id  \\\n",
       "0           1  abcaf1adb99a935fc661  43f0436b905bfa7c2eec   \n",
       "\n",
       "       secondary_act_id   purch_party_lkup_id  \\\n",
       "0  b85143bf51323b72e53c  7dfa56dd7d5956b17587   \n",
       "\n",
       "                                          event_name  \\\n",
       "0  Xfinity Center Mansfield Premier Parking: Flor...   \n",
       "\n",
       "                           primary_act_name secondary_act_name major_cat_name  \\\n",
       "0  XFINITY Center Mansfield Premier Parking                NaN           MISC   \n",
       "\n",
       "  minor_cat_name la_event_type_cat  \\\n",
       "0        PARKING           PARKING   \n",
       "\n",
       "                                     event_disp_name  \\\n",
       "0  Xfinity Center Mansfield Premier Parking: Flor...   \n",
       "\n",
       "                                         ticket_text  tickets_purchased_qty  \\\n",
       "0     THIS TICKET IS VALID        FOR PARKING ONL...                      1   \n",
       "\n",
       "   trans_face_val_amt delivery_type_cd      event_date_time    event_dt  \\\n",
       "0                45.0          eTicket  2015-09-12 23:30:00  2015-09-12   \n",
       "\n",
       "  presale_dt   onsale_dt sales_ord_create_dttm sales_ord_tran_dt    print_dt  \\\n",
       "0        NaN  2015-05-15   2015-09-11 18:17:45        2015-09-11  2015-09-12   \n",
       "\n",
       "  timezn_nm venue_city    venue_state venue_postal_cd_sgmt_1  \\\n",
       "0       EST  MANSFIELD  MASSACHUSETTS                  02048   \n",
       "\n",
       "             sales_platform_cd print_flg la_valid_tkt_event_flg fin_mkt_nm  \\\n",
       "0  www.concerts.livenation.com        T                      N      Boston   \n",
       "\n",
       "  web_session_cookie_val gndr_cd  age_yr  income_amt edu_val edu_1st_indv_val  \\\n",
       "0   7dfa56dd7d5956b17587     NaN     NaN         NaN     NaN              NaN   \n",
       "\n",
       "  edu_2nd_indv_val  adults_in_hh_num  married_ind  child_present_ind  \\\n",
       "0              NaN               NaN          NaN                NaN   \n",
       "\n",
       "   home_owner_ind occpn_val occpn_1st_val occpn_2nd_val  dist_to_ven  \n",
       "0             NaN       NaN           NaN           NaN          NaN  "
      ]
     },
     "execution_count": 5,
     "metadata": {},
     "output_type": "execute_result"
    }
   ],
   "source": [
    "dataset.head(1)"
   ]
  },
  {
   "cell_type": "markdown",
   "metadata": {},
   "source": [
    "there are some points\n",
    "\n",
    "-  do we need an double index? Just keep an eye on it, is the feature 0 an index? Anyhow - Unnamed:0 doesn't like fine\n",
    "- the last 14 features are missing the most information, you certainly won't need this data\n",
    "- the web_session_cookie_val does not provide any useful information, besides it is not certain if this is a unique identifier\n",
    "- primary_act_id, secondary_act_id, purch_party_lkup_id, these features look like internal information without any further use\n",
    "- event_id and event_name, on of them is redudant and even if there might be misspelling in the event_name (it could be in the event_id too) this features looks somewhat familiar so i keep this\n",
    "\n",
    "so let's drop the features :\n",
    "-  the last 15\n",
    "-  the feature 0,1,2,3 and 4\n",
    "\n",
    "this gives us a smaller dataset"
   ]
  },
  {
   "cell_type": "code",
   "execution_count": 34,
   "metadata": {
    "ExecuteTime": {
     "end_time": "2019-05-30T20:31:36.950181Z",
     "start_time": "2019-05-30T20:31:36.929187Z"
    }
   },
   "outputs": [],
   "source": [
    "dataset_small1 = dataset.iloc[:,5 :-15]"
   ]
  },
  {
   "cell_type": "markdown",
   "metadata": {},
   "source": [
    "the feature event_date_time isn't redundant, but the date time mix might cause some complications so i change \n"
   ]
  },
  {
   "cell_type": "code",
   "execution_count": 51,
   "metadata": {
    "ExecuteTime": {
     "end_time": "2019-05-30T20:56:37.743791Z",
     "start_time": "2019-05-30T20:56:35.536825Z"
    }
   },
   "outputs": [],
   "source": [
    "dataset_small1['event_date_time'] = dataset_small1['event_date_time'].apply(pd.to_datetime)\n",
    "#First, you need to convert the event_date_time feature into Datetime of Pandas:"
   ]
  },
  {
   "cell_type": "code",
   "execution_count": 55,
   "metadata": {
    "ExecuteTime": {
     "end_time": "2019-05-30T21:00:10.050513Z",
     "start_time": "2019-05-30T21:00:09.901521Z"
    }
   },
   "outputs": [],
   "source": [
    "# now event_date_time can be split into 2 new features\n",
    "dataset_small1['event_date'] = [d.date() for d in dataset_small1['event_date_time']]\n",
    "dataset_small1['event_time'] = [d.time() for d in dataset_small1['event_date_time']]"
   ]
  },
  {
   "cell_type": "code",
   "execution_count": 59,
   "metadata": {
    "ExecuteTime": {
     "end_time": "2019-05-30T21:05:18.447270Z",
     "start_time": "2019-05-30T21:05:18.369270Z"
    }
   },
   "outputs": [],
   "source": [
    "# now drop the features event_date_time\n",
    "dataset_small1 = dataset_small1.drop('event_date_time', axis = 1)\n"
   ]
  },
  {
   "cell_type": "code",
   "execution_count": 60,
   "metadata": {
    "ExecuteTime": {
     "end_time": "2019-05-30T21:06:00.880223Z",
     "start_time": "2019-05-30T21:06:00.562229Z"
    }
   },
   "outputs": [
    {
     "data": {
      "text/html": [
       "<div>\n",
       "<style scoped>\n",
       "    .dataframe tbody tr th:only-of-type {\n",
       "        vertical-align: middle;\n",
       "    }\n",
       "\n",
       "    .dataframe tbody tr th {\n",
       "        vertical-align: top;\n",
       "    }\n",
       "\n",
       "    .dataframe thead th {\n",
       "        text-align: right;\n",
       "    }\n",
       "</style>\n",
       "<table border=\"1\" class=\"dataframe\">\n",
       "  <thead>\n",
       "    <tr style=\"text-align: right;\">\n",
       "      <th></th>\n",
       "      <th>event_name</th>\n",
       "      <th>primary_act_name</th>\n",
       "      <th>secondary_act_name</th>\n",
       "      <th>major_cat_name</th>\n",
       "      <th>minor_cat_name</th>\n",
       "      <th>la_event_type_cat</th>\n",
       "      <th>event_disp_name</th>\n",
       "      <th>ticket_text</th>\n",
       "      <th>tickets_purchased_qty</th>\n",
       "      <th>trans_face_val_amt</th>\n",
       "      <th>delivery_type_cd</th>\n",
       "      <th>event_dt</th>\n",
       "      <th>presale_dt</th>\n",
       "      <th>onsale_dt</th>\n",
       "      <th>sales_ord_create_dttm</th>\n",
       "      <th>sales_ord_tran_dt</th>\n",
       "      <th>print_dt</th>\n",
       "      <th>timezn_nm</th>\n",
       "      <th>venue_city</th>\n",
       "      <th>venue_state</th>\n",
       "      <th>venue_postal_cd_sgmt_1</th>\n",
       "      <th>sales_platform_cd</th>\n",
       "      <th>print_flg</th>\n",
       "      <th>la_valid_tkt_event_flg</th>\n",
       "      <th>fin_mkt_nm</th>\n",
       "      <th>event_date</th>\n",
       "      <th>event_time</th>\n",
       "    </tr>\n",
       "  </thead>\n",
       "  <tbody>\n",
       "    <tr>\n",
       "      <th>0</th>\n",
       "      <td>Xfinity Center Mansfield Premier Parking: Flor...</td>\n",
       "      <td>XFINITY Center Mansfield Premier Parking</td>\n",
       "      <td>NaN</td>\n",
       "      <td>MISC</td>\n",
       "      <td>PARKING</td>\n",
       "      <td>PARKING</td>\n",
       "      <td>Xfinity Center Mansfield Premier Parking: Flor...</td>\n",
       "      <td>THIS TICKET IS VALID        FOR PARKING ONL...</td>\n",
       "      <td>1</td>\n",
       "      <td>45.0</td>\n",
       "      <td>eTicket</td>\n",
       "      <td>2015-09-12</td>\n",
       "      <td>NaN</td>\n",
       "      <td>2015-05-15</td>\n",
       "      <td>2015-09-11 18:17:45</td>\n",
       "      <td>2015-09-11</td>\n",
       "      <td>2015-09-12</td>\n",
       "      <td>EST</td>\n",
       "      <td>MANSFIELD</td>\n",
       "      <td>MASSACHUSETTS</td>\n",
       "      <td>02048</td>\n",
       "      <td>www.concerts.livenation.com</td>\n",
       "      <td>T</td>\n",
       "      <td>N</td>\n",
       "      <td>Boston</td>\n",
       "      <td>2015-09-12</td>\n",
       "      <td>23:30:00</td>\n",
       "    </tr>\n",
       "  </tbody>\n",
       "</table>\n",
       "</div>"
      ],
      "text/plain": [
       "                                          event_name  \\\n",
       "0  Xfinity Center Mansfield Premier Parking: Flor...   \n",
       "\n",
       "                           primary_act_name secondary_act_name major_cat_name  \\\n",
       "0  XFINITY Center Mansfield Premier Parking                NaN           MISC   \n",
       "\n",
       "  minor_cat_name la_event_type_cat  \\\n",
       "0        PARKING           PARKING   \n",
       "\n",
       "                                     event_disp_name  \\\n",
       "0  Xfinity Center Mansfield Premier Parking: Flor...   \n",
       "\n",
       "                                         ticket_text  tickets_purchased_qty  \\\n",
       "0     THIS TICKET IS VALID        FOR PARKING ONL...                      1   \n",
       "\n",
       "   trans_face_val_amt delivery_type_cd    event_dt presale_dt   onsale_dt  \\\n",
       "0                45.0          eTicket  2015-09-12        NaN  2015-05-15   \n",
       "\n",
       "  sales_ord_create_dttm sales_ord_tran_dt    print_dt timezn_nm venue_city  \\\n",
       "0   2015-09-11 18:17:45        2015-09-11  2015-09-12       EST  MANSFIELD   \n",
       "\n",
       "     venue_state venue_postal_cd_sgmt_1            sales_platform_cd  \\\n",
       "0  MASSACHUSETTS                  02048  www.concerts.livenation.com   \n",
       "\n",
       "  print_flg la_valid_tkt_event_flg fin_mkt_nm  event_date event_time  \n",
       "0        T                      N      Boston  2015-09-12   23:30:00  "
      ]
     },
     "execution_count": 60,
     "metadata": {},
     "output_type": "execute_result"
    }
   ],
   "source": [
    "# does eveything look fine?\n",
    "dataset_small1.head(1)"
   ]
  },
  {
   "cell_type": "code",
   "execution_count": 61,
   "metadata": {
    "ExecuteTime": {
     "end_time": "2019-05-30T21:07:25.333384Z",
     "start_time": "2019-05-30T21:07:07.126637Z"
    }
   },
   "outputs": [],
   "source": [
    "# dataset_small1.to_excel('dataset_small1.xlsx') #just to keep an eye on it in excel"
   ]
  },
  {
   "cell_type": "markdown",
   "metadata": {},
   "source": [
    "further tasks:\n",
    "\n",
    "-  secondary_act_name  this feature could possibly be dropped\n",
    "-  there is a lot of blank information e.g. in the presale_dt,sales_platform_cd features, these fields need a preperation prior any training\n",
    "-  ticket_text, event_disp_name, la_event_type_cat seems to be redundant\n",
    "-  venue_state seems to be redundant, but i keep it for further analysis, it's possible that the other features like venue_city are redundant and venue_state carries all needed information"
   ]
  },
  {
   "cell_type": "markdown",
   "metadata": {},
   "source": [
    "# Conclusion"
   ]
  },
  {
   "cell_type": "markdown",
   "metadata": {},
   "source": [
    "I expected a really messy dataset, anyhow the dataset is prepared for further analysis  \n",
    "*Hone your skills by importing and cleaning some wonderfully messy online ticket sales data.*  \n",
    "\n",
    "the next step would be to examine which of the categorical features are of importance  \n",
    "  \n",
    "I guess that this set still carries a lot of redundant information, this depends on the kind of question you ask \n",
    "\n",
    "to prevent any kind of bias i won't advise to reduce this dataset further prior clustering"
   ]
  },
  {
   "cell_type": "code",
   "execution_count": null,
   "metadata": {},
   "outputs": [],
   "source": []
  }
 ],
 "metadata": {
  "hide_input": false,
  "kernelspec": {
   "display_name": "Python 3",
   "language": "python",
   "name": "python3"
  },
  "language_info": {
   "codemirror_mode": {
    "name": "ipython",
    "version": 3
   },
   "file_extension": ".py",
   "mimetype": "text/x-python",
   "name": "python",
   "nbconvert_exporter": "python",
   "pygments_lexer": "ipython3",
   "version": "3.7.3"
  },
  "toc": {
   "base_numbering": 1,
   "nav_menu": {},
   "number_sections": true,
   "sideBar": true,
   "skip_h1_title": false,
   "title_cell": "Table of Contents",
   "title_sidebar": "Contents",
   "toc_cell": false,
   "toc_position": {},
   "toc_section_display": true,
   "toc_window_display": false
  }
 },
 "nbformat": 4,
 "nbformat_minor": 2
}
